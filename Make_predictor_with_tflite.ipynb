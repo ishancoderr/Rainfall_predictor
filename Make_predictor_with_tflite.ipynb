{
  "nbformat": 4,
  "nbformat_minor": 0,
  "metadata": {
    "colab": {
      "name": "Untitled43.ipynb",
      "provenance": [],
      "collapsed_sections": [],
      "authorship_tag": "ABX9TyN3wSut8wqwg38uYlYb6BcY",
      "include_colab_link": true
    },
    "kernelspec": {
      "name": "python3",
      "display_name": "Python 3"
    },
    "language_info": {
      "name": "python"
    }
  },
  "cells": [
    {
      "cell_type": "markdown",
      "metadata": {
        "id": "view-in-github",
        "colab_type": "text"
      },
      "source": [
        "<a href=\"https://colab.research.google.com/github/ishancoderr/Rainfall_predictor/blob/main/Make_predictor_with_tflite.ipynb\" target=\"_parent\"><img src=\"https://colab.research.google.com/assets/colab-badge.svg\" alt=\"Open In Colab\"/></a>"
      ]
    },
    {
      "cell_type": "markdown",
      "metadata": {
        "id": "3tmoDwL0y4BD"
      },
      "source": [
        "**Importing the libraries**"
      ]
    },
    {
      "cell_type": "code",
      "metadata": {
        "id": "SAIfZJDayyVp"
      },
      "source": [
        "import numpy as np\n",
        "import matplotlib.pyplot as plt\n",
        "import pandas as pd\n",
        "import io\n",
        "import requests"
      ],
      "execution_count": 11,
      "outputs": []
    },
    {
      "cell_type": "markdown",
      "metadata": {
        "id": "49SPamzuzLi7"
      },
      "source": [
        "**Importing Rainfall data** "
      ]
    },
    {
      "cell_type": "code",
      "metadata": {
        "id": "xQazaJdaw8wM"
      },
      "source": [
        "url='https://raw.githubusercontent.com/ishancoderr/Rainfall_predictor/main/rainfall_data.csv'\n",
        "s=requests.get(url).content\n",
        "dataset=pd.read_csv(io.StringIO(s.decode('utf-8')))"
      ],
      "execution_count": 12,
      "outputs": []
    },
    {
      "cell_type": "code",
      "metadata": {
        "colab": {
          "base_uri": "https://localhost:8080/",
          "height": 204
        },
        "id": "maChF_rJzl30",
        "outputId": "02fad6d6-40fb-4774-a7a7-2ef114487ce1"
      },
      "source": [
        "dataset.head()"
      ],
      "execution_count": 13,
      "outputs": [
        {
          "output_type": "execute_result",
          "data": {
            "text/html": [
              "<div>\n",
              "<style scoped>\n",
              "    .dataframe tbody tr th:only-of-type {\n",
              "        vertical-align: middle;\n",
              "    }\n",
              "\n",
              "    .dataframe tbody tr th {\n",
              "        vertical-align: top;\n",
              "    }\n",
              "\n",
              "    .dataframe thead th {\n",
              "        text-align: right;\n",
              "    }\n",
              "</style>\n",
              "<table border=\"1\" class=\"dataframe\">\n",
              "  <thead>\n",
              "    <tr style=\"text-align: right;\">\n",
              "      <th></th>\n",
              "      <th>Unnamed: 0</th>\n",
              "      <th>Avg_Accumulation (mm)</th>\n",
              "      <th>Duration (hr)</th>\n",
              "      <th>Avg_intensity (mm/hr)</th>\n",
              "      <th>occur_</th>\n",
              "    </tr>\n",
              "  </thead>\n",
              "  <tbody>\n",
              "    <tr>\n",
              "      <th>0</th>\n",
              "      <td>0</td>\n",
              "      <td>257</td>\n",
              "      <td>6.0</td>\n",
              "      <td>43</td>\n",
              "      <td>1</td>\n",
              "    </tr>\n",
              "    <tr>\n",
              "      <th>1</th>\n",
              "      <td>1</td>\n",
              "      <td>268</td>\n",
              "      <td>5.0</td>\n",
              "      <td>53</td>\n",
              "      <td>1</td>\n",
              "    </tr>\n",
              "    <tr>\n",
              "      <th>2</th>\n",
              "      <td>2</td>\n",
              "      <td>289</td>\n",
              "      <td>6.0</td>\n",
              "      <td>48</td>\n",
              "      <td>1</td>\n",
              "    </tr>\n",
              "    <tr>\n",
              "      <th>3</th>\n",
              "      <td>3</td>\n",
              "      <td>215</td>\n",
              "      <td>4.0</td>\n",
              "      <td>54</td>\n",
              "      <td>1</td>\n",
              "    </tr>\n",
              "    <tr>\n",
              "      <th>4</th>\n",
              "      <td>4</td>\n",
              "      <td>149</td>\n",
              "      <td>3.0</td>\n",
              "      <td>50</td>\n",
              "      <td>1</td>\n",
              "    </tr>\n",
              "  </tbody>\n",
              "</table>\n",
              "</div>"
            ],
            "text/plain": [
              "   Unnamed: 0  Avg_Accumulation (mm)  ...  Avg_intensity (mm/hr)  occur_\n",
              "0           0                    257  ...                     43       1\n",
              "1           1                    268  ...                     53       1\n",
              "2           2                    289  ...                     48       1\n",
              "3           3                    215  ...                     54       1\n",
              "4           4                    149  ...                     50       1\n",
              "\n",
              "[5 rows x 5 columns]"
            ]
          },
          "metadata": {},
          "execution_count": 13
        }
      ]
    },
    {
      "cell_type": "code",
      "metadata": {
        "id": "jDQM3ygYpdGg",
        "outputId": "8c4c3577-c62a-49f2-dd2d-1bddb334bf89",
        "colab": {
          "base_uri": "https://localhost:8080/"
        }
      },
      "source": [
        "dataset['occur_'].unique()"
      ],
      "execution_count": 14,
      "outputs": [
        {
          "output_type": "execute_result",
          "data": {
            "text/plain": [
              "array([1, 0])"
            ]
          },
          "metadata": {},
          "execution_count": 14
        }
      ]
    },
    {
      "cell_type": "markdown",
      "metadata": {
        "id": "m1pUMrvHpqaK"
      },
      "source": [
        "Hence occur_ can use as output value"
      ]
    },
    {
      "cell_type": "code",
      "metadata": {
        "id": "hqRxWWXxpy_R"
      },
      "source": [
        "dataset = dataset.to_numpy()"
      ],
      "execution_count": 16,
      "outputs": []
    },
    {
      "cell_type": "code",
      "metadata": {
        "id": "7-pivQcOrGtz",
        "outputId": "d88f6934-2029-4ab8-d483-6f4f8ac8cba1",
        "colab": {
          "base_uri": "https://localhost:8080/"
        }
      },
      "source": [
        "print(dataset.shape)"
      ],
      "execution_count": 20,
      "outputs": [
        {
          "output_type": "stream",
          "name": "stdout",
          "text": [
            "(50, 5)\n"
          ]
        }
      ]
    },
    {
      "cell_type": "code",
      "metadata": {
        "id": "T6rvN_ACrOzS",
        "outputId": "e0fcbd63-906c-45b3-dbf9-a4e207ee4d91",
        "colab": {
          "base_uri": "https://localhost:8080/"
        }
      },
      "source": [
        "print(dataset[:5])"
      ],
      "execution_count": 22,
      "outputs": [
        {
          "output_type": "stream",
          "name": "stdout",
          "text": [
            "[[  0. 257.   6.  43.   1.]\n",
            " [  1. 268.   5.  53.   1.]\n",
            " [  2. 289.   6.  48.   1.]\n",
            " [  3. 215.   4.  54.   1.]\n",
            " [  4. 149.   3.  50.   1.]]\n"
          ]
        }
      ]
    },
    {
      "cell_type": "code",
      "metadata": {
        "id": "rGxzex6lrrJq"
      },
      "source": [
        "X=dataset[:,:-1]"
      ],
      "execution_count": 23,
      "outputs": []
    },
    {
      "cell_type": "code",
      "metadata": {
        "id": "m9bTtr3br3XJ"
      },
      "source": [
        "Y=dataset[:,-1]"
      ],
      "execution_count": 25,
      "outputs": []
    },
    {
      "cell_type": "code",
      "metadata": {
        "id": "mymEvltYsEDZ",
        "outputId": "ecb8f89e-ecc1-4548-e8d9-0efd18bb8fc2",
        "colab": {
          "base_uri": "https://localhost:8080/"
        }
      },
      "source": [
        "print(X.shape,Y.shape)"
      ],
      "execution_count": 26,
      "outputs": [
        {
          "output_type": "stream",
          "name": "stdout",
          "text": [
            "(50, 4) (50,)\n"
          ]
        }
      ]
    },
    {
      "cell_type": "code",
      "metadata": {
        "id": "MGDSrsPmsWrx"
      },
      "source": [
        "from tensorflow.keras.models import Sequential\n",
        "from tensorflow.keras.layers import Dense\n"
      ],
      "execution_count": 28,
      "outputs": []
    },
    {
      "cell_type": "code",
      "metadata": {
        "id": "lZn8QfBYstWR"
      },
      "source": [
        "model=Sequential()\n",
        "\n",
        "\n",
        "model.add(Dense(1,input_dim=len(X[0,:]),activation='sigmoid'))"
      ],
      "execution_count": 83,
      "outputs": []
    },
    {
      "cell_type": "markdown",
      "metadata": {
        "id": "dn9GUiFHtL5R"
      },
      "source": [
        "In here use sigmoid funstion for classification"
      ]
    },
    {
      "cell_type": "code",
      "metadata": {
        "id": "FFE8fcsMszM5"
      },
      "source": [
        "model.compile(loss='binary_crossentropy',optimizer='rmsprop',metrics=['accuracy'])"
      ],
      "execution_count": 30,
      "outputs": []
    },
    {
      "cell_type": "code",
      "metadata": {
        "id": "OWTrRZB2uVvB",
        "outputId": "2007f77d-bc29-47ac-a7aa-c33642131a1e",
        "colab": {
          "base_uri": "https://localhost:8080/"
        }
      },
      "source": [
        "model.fit(x=X,y=Y,epochs=256,verbose=1)"
      ],
      "execution_count": 35,
      "outputs": [
        {
          "output_type": "stream",
          "name": "stdout",
          "text": [
            "Epoch 1/256\n",
            "2/2 [==============================] - 0s 5ms/step - loss: 5.2619 - accuracy: 0.6600\n",
            "Epoch 2/256\n",
            "2/2 [==============================] - 0s 3ms/step - loss: 5.2619 - accuracy: 0.6600\n",
            "Epoch 3/256\n",
            "2/2 [==============================] - 0s 3ms/step - loss: 5.2619 - accuracy: 0.6600\n",
            "Epoch 4/256\n",
            "2/2 [==============================] - 0s 9ms/step - loss: 5.2619 - accuracy: 0.6600\n",
            "Epoch 5/256\n",
            "2/2 [==============================] - 0s 3ms/step - loss: 5.2619 - accuracy: 0.6600\n",
            "Epoch 6/256\n",
            "2/2 [==============================] - 0s 9ms/step - loss: 5.2619 - accuracy: 0.6600\n",
            "Epoch 7/256\n",
            "2/2 [==============================] - 0s 3ms/step - loss: 5.2619 - accuracy: 0.6600\n",
            "Epoch 8/256\n",
            "2/2 [==============================] - 0s 6ms/step - loss: 5.2619 - accuracy: 0.6600\n",
            "Epoch 9/256\n",
            "2/2 [==============================] - 0s 5ms/step - loss: 5.2619 - accuracy: 0.6600\n",
            "Epoch 10/256\n",
            "2/2 [==============================] - 0s 9ms/step - loss: 5.2619 - accuracy: 0.6600\n",
            "Epoch 11/256\n",
            "2/2 [==============================] - 0s 6ms/step - loss: 5.2619 - accuracy: 0.6600\n",
            "Epoch 12/256\n",
            "2/2 [==============================] - 0s 6ms/step - loss: 5.2619 - accuracy: 0.6600\n",
            "Epoch 13/256\n",
            "2/2 [==============================] - 0s 11ms/step - loss: 5.2619 - accuracy: 0.6600\n",
            "Epoch 14/256\n",
            "2/2 [==============================] - 0s 6ms/step - loss: 5.2619 - accuracy: 0.6600\n",
            "Epoch 15/256\n",
            "2/2 [==============================] - 0s 4ms/step - loss: 5.2619 - accuracy: 0.6600\n",
            "Epoch 16/256\n",
            "2/2 [==============================] - 0s 5ms/step - loss: 5.2619 - accuracy: 0.6600\n",
            "Epoch 17/256\n",
            "2/2 [==============================] - 0s 5ms/step - loss: 5.2619 - accuracy: 0.6600\n",
            "Epoch 18/256\n",
            "2/2 [==============================] - 0s 8ms/step - loss: 5.2619 - accuracy: 0.6600\n",
            "Epoch 19/256\n",
            "2/2 [==============================] - 0s 3ms/step - loss: 5.2619 - accuracy: 0.6600\n",
            "Epoch 20/256\n",
            "2/2 [==============================] - 0s 5ms/step - loss: 5.2619 - accuracy: 0.6600\n",
            "Epoch 21/256\n",
            "2/2 [==============================] - 0s 6ms/step - loss: 5.2619 - accuracy: 0.6600\n",
            "Epoch 22/256\n",
            "2/2 [==============================] - 0s 5ms/step - loss: 5.2619 - accuracy: 0.6600\n",
            "Epoch 23/256\n",
            "2/2 [==============================] - 0s 4ms/step - loss: 5.2619 - accuracy: 0.6600\n",
            "Epoch 24/256\n",
            "2/2 [==============================] - 0s 4ms/step - loss: 5.2619 - accuracy: 0.6600\n",
            "Epoch 25/256\n",
            "2/2 [==============================] - 0s 5ms/step - loss: 5.2619 - accuracy: 0.6600\n",
            "Epoch 26/256\n",
            "2/2 [==============================] - 0s 3ms/step - loss: 5.2619 - accuracy: 0.6600\n",
            "Epoch 27/256\n",
            "2/2 [==============================] - 0s 5ms/step - loss: 5.2619 - accuracy: 0.6600\n",
            "Epoch 28/256\n",
            "2/2 [==============================] - 0s 4ms/step - loss: 5.2619 - accuracy: 0.6600\n",
            "Epoch 29/256\n",
            "2/2 [==============================] - 0s 4ms/step - loss: 5.2619 - accuracy: 0.6600\n",
            "Epoch 30/256\n",
            "2/2 [==============================] - 0s 7ms/step - loss: 5.2619 - accuracy: 0.6600\n",
            "Epoch 31/256\n",
            "2/2 [==============================] - 0s 7ms/step - loss: 5.2619 - accuracy: 0.6600\n",
            "Epoch 32/256\n",
            "2/2 [==============================] - 0s 4ms/step - loss: 5.2619 - accuracy: 0.6600\n",
            "Epoch 33/256\n",
            "2/2 [==============================] - 0s 4ms/step - loss: 5.2619 - accuracy: 0.6600\n",
            "Epoch 34/256\n",
            "2/2 [==============================] - 0s 6ms/step - loss: 5.2619 - accuracy: 0.6600\n",
            "Epoch 35/256\n",
            "2/2 [==============================] - 0s 5ms/step - loss: 5.2619 - accuracy: 0.6600\n",
            "Epoch 36/256\n",
            "2/2 [==============================] - 0s 9ms/step - loss: 5.2619 - accuracy: 0.6600\n",
            "Epoch 37/256\n",
            "2/2 [==============================] - 0s 5ms/step - loss: 5.2619 - accuracy: 0.6600\n",
            "Epoch 38/256\n",
            "2/2 [==============================] - 0s 4ms/step - loss: 5.2619 - accuracy: 0.6600\n",
            "Epoch 39/256\n",
            "2/2 [==============================] - 0s 4ms/step - loss: 5.2619 - accuracy: 0.6600\n",
            "Epoch 40/256\n",
            "2/2 [==============================] - 0s 4ms/step - loss: 5.2619 - accuracy: 0.6600\n",
            "Epoch 41/256\n",
            "2/2 [==============================] - 0s 6ms/step - loss: 5.2619 - accuracy: 0.6600\n",
            "Epoch 42/256\n",
            "2/2 [==============================] - 0s 4ms/step - loss: 5.2619 - accuracy: 0.6600\n",
            "Epoch 43/256\n",
            "2/2 [==============================] - 0s 7ms/step - loss: 5.2619 - accuracy: 0.6600\n",
            "Epoch 44/256\n",
            "2/2 [==============================] - 0s 7ms/step - loss: 5.2619 - accuracy: 0.6600\n",
            "Epoch 45/256\n",
            "2/2 [==============================] - 0s 5ms/step - loss: 5.2619 - accuracy: 0.6600\n",
            "Epoch 46/256\n",
            "2/2 [==============================] - 0s 5ms/step - loss: 5.2619 - accuracy: 0.6600\n",
            "Epoch 47/256\n",
            "2/2 [==============================] - 0s 5ms/step - loss: 5.2619 - accuracy: 0.6600\n",
            "Epoch 48/256\n",
            "2/2 [==============================] - 0s 5ms/step - loss: 5.2619 - accuracy: 0.6600\n",
            "Epoch 49/256\n",
            "2/2 [==============================] - 0s 4ms/step - loss: 5.2619 - accuracy: 0.6600\n",
            "Epoch 50/256\n",
            "2/2 [==============================] - 0s 4ms/step - loss: 5.2619 - accuracy: 0.6600\n",
            "Epoch 51/256\n",
            "2/2 [==============================] - 0s 4ms/step - loss: 5.2619 - accuracy: 0.6600\n",
            "Epoch 52/256\n",
            "2/2 [==============================] - 0s 4ms/step - loss: 5.2619 - accuracy: 0.6600\n",
            "Epoch 53/256\n",
            "2/2 [==============================] - 0s 4ms/step - loss: 5.2619 - accuracy: 0.6600\n",
            "Epoch 54/256\n",
            "2/2 [==============================] - 0s 4ms/step - loss: 5.2619 - accuracy: 0.6600\n",
            "Epoch 55/256\n",
            "2/2 [==============================] - 0s 7ms/step - loss: 5.2619 - accuracy: 0.6600\n",
            "Epoch 56/256\n",
            "2/2 [==============================] - 0s 4ms/step - loss: 5.2619 - accuracy: 0.6600\n",
            "Epoch 57/256\n",
            "2/2 [==============================] - 0s 4ms/step - loss: 5.2619 - accuracy: 0.6600\n",
            "Epoch 58/256\n",
            "2/2 [==============================] - 0s 5ms/step - loss: 5.2619 - accuracy: 0.6600\n",
            "Epoch 59/256\n",
            "2/2 [==============================] - 0s 4ms/step - loss: 5.2619 - accuracy: 0.6600\n",
            "Epoch 60/256\n",
            "2/2 [==============================] - 0s 6ms/step - loss: 5.2619 - accuracy: 0.6600\n",
            "Epoch 61/256\n",
            "2/2 [==============================] - 0s 6ms/step - loss: 5.2619 - accuracy: 0.6600\n",
            "Epoch 62/256\n",
            "2/2 [==============================] - 0s 6ms/step - loss: 5.2619 - accuracy: 0.6600\n",
            "Epoch 63/256\n",
            "2/2 [==============================] - 0s 5ms/step - loss: 5.2619 - accuracy: 0.6600\n",
            "Epoch 64/256\n",
            "2/2 [==============================] - 0s 5ms/step - loss: 5.2619 - accuracy: 0.6600\n",
            "Epoch 65/256\n",
            "2/2 [==============================] - 0s 5ms/step - loss: 5.2619 - accuracy: 0.6600\n",
            "Epoch 66/256\n",
            "2/2 [==============================] - 0s 3ms/step - loss: 5.2619 - accuracy: 0.6600\n",
            "Epoch 67/256\n",
            "2/2 [==============================] - 0s 10ms/step - loss: 5.2619 - accuracy: 0.6600\n",
            "Epoch 68/256\n",
            "2/2 [==============================] - 0s 4ms/step - loss: 5.2619 - accuracy: 0.6600\n",
            "Epoch 69/256\n",
            "2/2 [==============================] - 0s 8ms/step - loss: 5.2619 - accuracy: 0.6600\n",
            "Epoch 70/256\n",
            "2/2 [==============================] - 0s 3ms/step - loss: 5.2619 - accuracy: 0.6600\n",
            "Epoch 71/256\n",
            "2/2 [==============================] - 0s 4ms/step - loss: 5.2619 - accuracy: 0.6600\n",
            "Epoch 72/256\n",
            "2/2 [==============================] - 0s 7ms/step - loss: 5.2619 - accuracy: 0.6600\n",
            "Epoch 73/256\n",
            "2/2 [==============================] - 0s 4ms/step - loss: 5.2619 - accuracy: 0.6600\n",
            "Epoch 74/256\n",
            "2/2 [==============================] - 0s 4ms/step - loss: 5.2619 - accuracy: 0.6600\n",
            "Epoch 75/256\n",
            "2/2 [==============================] - 0s 7ms/step - loss: 5.2619 - accuracy: 0.6600\n",
            "Epoch 76/256\n",
            "2/2 [==============================] - 0s 4ms/step - loss: 5.2619 - accuracy: 0.6600\n",
            "Epoch 77/256\n",
            "2/2 [==============================] - 0s 5ms/step - loss: 5.2619 - accuracy: 0.6600\n",
            "Epoch 78/256\n",
            "2/2 [==============================] - 0s 9ms/step - loss: 5.2619 - accuracy: 0.6600\n",
            "Epoch 79/256\n",
            "2/2 [==============================] - 0s 13ms/step - loss: 5.2619 - accuracy: 0.6600\n",
            "Epoch 80/256\n",
            "2/2 [==============================] - 0s 5ms/step - loss: 5.2619 - accuracy: 0.6600\n",
            "Epoch 81/256\n",
            "2/2 [==============================] - 0s 3ms/step - loss: 5.2619 - accuracy: 0.6600\n",
            "Epoch 82/256\n",
            "2/2 [==============================] - 0s 6ms/step - loss: 5.2619 - accuracy: 0.6600\n",
            "Epoch 83/256\n",
            "2/2 [==============================] - 0s 4ms/step - loss: 5.2619 - accuracy: 0.6600\n",
            "Epoch 84/256\n",
            "2/2 [==============================] - 0s 4ms/step - loss: 5.2619 - accuracy: 0.6600\n",
            "Epoch 85/256\n",
            "2/2 [==============================] - 0s 6ms/step - loss: 5.2619 - accuracy: 0.6600\n",
            "Epoch 86/256\n",
            "2/2 [==============================] - 0s 5ms/step - loss: 5.2619 - accuracy: 0.6600\n",
            "Epoch 87/256\n",
            "2/2 [==============================] - 0s 4ms/step - loss: 5.2619 - accuracy: 0.6600\n",
            "Epoch 88/256\n",
            "2/2 [==============================] - 0s 8ms/step - loss: 5.2619 - accuracy: 0.6600\n",
            "Epoch 89/256\n",
            "2/2 [==============================] - 0s 7ms/step - loss: 5.2619 - accuracy: 0.6600\n",
            "Epoch 90/256\n",
            "2/2 [==============================] - 0s 6ms/step - loss: 5.2619 - accuracy: 0.6600\n",
            "Epoch 91/256\n",
            "2/2 [==============================] - 0s 3ms/step - loss: 5.2619 - accuracy: 0.6600\n",
            "Epoch 92/256\n",
            "2/2 [==============================] - 0s 5ms/step - loss: 5.2619 - accuracy: 0.6600\n",
            "Epoch 93/256\n",
            "2/2 [==============================] - 0s 6ms/step - loss: 5.2619 - accuracy: 0.6600\n",
            "Epoch 94/256\n",
            "2/2 [==============================] - 0s 5ms/step - loss: 5.2619 - accuracy: 0.6600\n",
            "Epoch 95/256\n",
            "2/2 [==============================] - 0s 3ms/step - loss: 5.2619 - accuracy: 0.6600\n",
            "Epoch 96/256\n",
            "2/2 [==============================] - 0s 8ms/step - loss: 5.2619 - accuracy: 0.6600\n",
            "Epoch 97/256\n",
            "2/2 [==============================] - 0s 5ms/step - loss: 5.2619 - accuracy: 0.6600\n",
            "Epoch 98/256\n",
            "2/2 [==============================] - 0s 6ms/step - loss: 5.2619 - accuracy: 0.6600\n",
            "Epoch 99/256\n",
            "2/2 [==============================] - 0s 5ms/step - loss: 5.2619 - accuracy: 0.6600\n",
            "Epoch 100/256\n",
            "2/2 [==============================] - 0s 6ms/step - loss: 5.2619 - accuracy: 0.6600\n",
            "Epoch 101/256\n",
            "2/2 [==============================] - 0s 8ms/step - loss: 5.2619 - accuracy: 0.6600\n",
            "Epoch 102/256\n",
            "2/2 [==============================] - 0s 6ms/step - loss: 5.2619 - accuracy: 0.6600\n",
            "Epoch 103/256\n",
            "2/2 [==============================] - 0s 7ms/step - loss: 5.2619 - accuracy: 0.6600\n",
            "Epoch 104/256\n",
            "2/2 [==============================] - 0s 6ms/step - loss: 5.2619 - accuracy: 0.6600\n",
            "Epoch 105/256\n",
            "2/2 [==============================] - 0s 6ms/step - loss: 5.2619 - accuracy: 0.6600\n",
            "Epoch 106/256\n",
            "2/2 [==============================] - 0s 8ms/step - loss: 5.2619 - accuracy: 0.6600\n",
            "Epoch 107/256\n",
            "2/2 [==============================] - 0s 10ms/step - loss: 5.2619 - accuracy: 0.6600\n",
            "Epoch 108/256\n",
            "2/2 [==============================] - 0s 7ms/step - loss: 5.2619 - accuracy: 0.6600\n",
            "Epoch 109/256\n",
            "2/2 [==============================] - 0s 7ms/step - loss: 5.2619 - accuracy: 0.6600\n",
            "Epoch 110/256\n",
            "2/2 [==============================] - 0s 4ms/step - loss: 5.2619 - accuracy: 0.6600\n",
            "Epoch 111/256\n",
            "2/2 [==============================] - 0s 6ms/step - loss: 5.2619 - accuracy: 0.6600\n",
            "Epoch 112/256\n",
            "2/2 [==============================] - 0s 4ms/step - loss: 5.2619 - accuracy: 0.6600\n",
            "Epoch 113/256\n",
            "2/2 [==============================] - 0s 3ms/step - loss: 5.2619 - accuracy: 0.6600\n",
            "Epoch 114/256\n",
            "2/2 [==============================] - 0s 4ms/step - loss: 5.2619 - accuracy: 0.6600\n",
            "Epoch 115/256\n",
            "2/2 [==============================] - 0s 3ms/step - loss: 5.2619 - accuracy: 0.6600\n",
            "Epoch 116/256\n",
            "2/2 [==============================] - 0s 4ms/step - loss: 5.2619 - accuracy: 0.6600\n",
            "Epoch 117/256\n",
            "2/2 [==============================] - 0s 4ms/step - loss: 5.2619 - accuracy: 0.6600\n",
            "Epoch 118/256\n",
            "2/2 [==============================] - 0s 8ms/step - loss: 5.2619 - accuracy: 0.6600\n",
            "Epoch 119/256\n",
            "2/2 [==============================] - 0s 4ms/step - loss: 5.2619 - accuracy: 0.6600\n",
            "Epoch 120/256\n",
            "2/2 [==============================] - 0s 4ms/step - loss: 5.2619 - accuracy: 0.6600\n",
            "Epoch 121/256\n",
            "2/2 [==============================] - 0s 4ms/step - loss: 5.2619 - accuracy: 0.6600\n",
            "Epoch 122/256\n",
            "2/2 [==============================] - 0s 4ms/step - loss: 5.2619 - accuracy: 0.6600\n",
            "Epoch 123/256\n",
            "2/2 [==============================] - 0s 4ms/step - loss: 5.2619 - accuracy: 0.6600\n",
            "Epoch 124/256\n",
            "2/2 [==============================] - 0s 3ms/step - loss: 5.2619 - accuracy: 0.6600\n",
            "Epoch 125/256\n",
            "2/2 [==============================] - 0s 3ms/step - loss: 5.2619 - accuracy: 0.6600\n",
            "Epoch 126/256\n",
            "2/2 [==============================] - 0s 3ms/step - loss: 5.2619 - accuracy: 0.6600\n",
            "Epoch 127/256\n",
            "2/2 [==============================] - 0s 4ms/step - loss: 5.2619 - accuracy: 0.6600\n",
            "Epoch 128/256\n",
            "2/2 [==============================] - 0s 4ms/step - loss: 5.2619 - accuracy: 0.6600\n",
            "Epoch 129/256\n",
            "2/2 [==============================] - 0s 4ms/step - loss: 5.2619 - accuracy: 0.6600\n",
            "Epoch 130/256\n",
            "2/2 [==============================] - 0s 4ms/step - loss: 5.2619 - accuracy: 0.6600\n",
            "Epoch 131/256\n",
            "2/2 [==============================] - 0s 4ms/step - loss: 5.2619 - accuracy: 0.6600\n",
            "Epoch 132/256\n",
            "2/2 [==============================] - 0s 4ms/step - loss: 5.2619 - accuracy: 0.6600\n",
            "Epoch 133/256\n",
            "2/2 [==============================] - 0s 6ms/step - loss: 5.2619 - accuracy: 0.6600\n",
            "Epoch 134/256\n",
            "2/2 [==============================] - 0s 4ms/step - loss: 5.2619 - accuracy: 0.6600\n",
            "Epoch 135/256\n",
            "2/2 [==============================] - 0s 6ms/step - loss: 5.2619 - accuracy: 0.6600\n",
            "Epoch 136/256\n",
            "2/2 [==============================] - 0s 6ms/step - loss: 5.2619 - accuracy: 0.6600\n",
            "Epoch 137/256\n",
            "2/2 [==============================] - 0s 3ms/step - loss: 5.2619 - accuracy: 0.6600\n",
            "Epoch 138/256\n",
            "2/2 [==============================] - 0s 5ms/step - loss: 5.2619 - accuracy: 0.6600\n",
            "Epoch 139/256\n",
            "2/2 [==============================] - 0s 5ms/step - loss: 5.2619 - accuracy: 0.6600\n",
            "Epoch 140/256\n",
            "2/2 [==============================] - 0s 6ms/step - loss: 5.2619 - accuracy: 0.6600\n",
            "Epoch 141/256\n",
            "2/2 [==============================] - 0s 5ms/step - loss: 5.2619 - accuracy: 0.6600\n",
            "Epoch 142/256\n",
            "2/2 [==============================] - 0s 4ms/step - loss: 5.2619 - accuracy: 0.6600\n",
            "Epoch 143/256\n",
            "2/2 [==============================] - 0s 5ms/step - loss: 5.2619 - accuracy: 0.6600\n",
            "Epoch 144/256\n",
            "2/2 [==============================] - 0s 8ms/step - loss: 5.2619 - accuracy: 0.6600\n",
            "Epoch 145/256\n",
            "2/2 [==============================] - 0s 5ms/step - loss: 5.2619 - accuracy: 0.6600\n",
            "Epoch 146/256\n",
            "2/2 [==============================] - 0s 5ms/step - loss: 5.2619 - accuracy: 0.6600\n",
            "Epoch 147/256\n",
            "2/2 [==============================] - 0s 5ms/step - loss: 5.2619 - accuracy: 0.6600\n",
            "Epoch 148/256\n",
            "2/2 [==============================] - 0s 6ms/step - loss: 5.2619 - accuracy: 0.6600\n",
            "Epoch 149/256\n",
            "2/2 [==============================] - 0s 17ms/step - loss: 5.2619 - accuracy: 0.6600\n",
            "Epoch 150/256\n",
            "2/2 [==============================] - 0s 7ms/step - loss: 5.2619 - accuracy: 0.6600\n",
            "Epoch 151/256\n",
            "2/2 [==============================] - 0s 10ms/step - loss: 5.2619 - accuracy: 0.6600\n",
            "Epoch 152/256\n",
            "2/2 [==============================] - 0s 5ms/step - loss: 5.2619 - accuracy: 0.6600\n",
            "Epoch 153/256\n",
            "2/2 [==============================] - 0s 5ms/step - loss: 5.2619 - accuracy: 0.6600\n",
            "Epoch 154/256\n",
            "2/2 [==============================] - 0s 4ms/step - loss: 5.2619 - accuracy: 0.6600\n",
            "Epoch 155/256\n",
            "2/2 [==============================] - 0s 4ms/step - loss: 5.2619 - accuracy: 0.6600\n",
            "Epoch 156/256\n",
            "2/2 [==============================] - 0s 3ms/step - loss: 5.2619 - accuracy: 0.6600\n",
            "Epoch 157/256\n",
            "2/2 [==============================] - 0s 4ms/step - loss: 5.2619 - accuracy: 0.6600\n",
            "Epoch 158/256\n",
            "2/2 [==============================] - 0s 4ms/step - loss: 5.2619 - accuracy: 0.6600\n",
            "Epoch 159/256\n",
            "2/2 [==============================] - 0s 4ms/step - loss: 5.2619 - accuracy: 0.6600\n",
            "Epoch 160/256\n",
            "2/2 [==============================] - 0s 4ms/step - loss: 5.2619 - accuracy: 0.6600\n",
            "Epoch 161/256\n",
            "2/2 [==============================] - 0s 4ms/step - loss: 5.2619 - accuracy: 0.6600\n",
            "Epoch 162/256\n",
            "2/2 [==============================] - 0s 4ms/step - loss: 5.2619 - accuracy: 0.6600\n",
            "Epoch 163/256\n",
            "2/2 [==============================] - 0s 4ms/step - loss: 5.2619 - accuracy: 0.6600\n",
            "Epoch 164/256\n",
            "2/2 [==============================] - 0s 3ms/step - loss: 5.2619 - accuracy: 0.6600\n",
            "Epoch 165/256\n",
            "2/2 [==============================] - 0s 8ms/step - loss: 5.2619 - accuracy: 0.6600\n",
            "Epoch 166/256\n",
            "2/2 [==============================] - 0s 4ms/step - loss: 5.2619 - accuracy: 0.6600\n",
            "Epoch 167/256\n",
            "2/2 [==============================] - 0s 4ms/step - loss: 5.2619 - accuracy: 0.6600\n",
            "Epoch 168/256\n",
            "2/2 [==============================] - 0s 4ms/step - loss: 5.2619 - accuracy: 0.6600\n",
            "Epoch 169/256\n",
            "2/2 [==============================] - 0s 7ms/step - loss: 5.2619 - accuracy: 0.6600\n",
            "Epoch 170/256\n",
            "2/2 [==============================] - 0s 4ms/step - loss: 5.2619 - accuracy: 0.6600\n",
            "Epoch 171/256\n",
            "2/2 [==============================] - 0s 4ms/step - loss: 5.2619 - accuracy: 0.6600\n",
            "Epoch 172/256\n",
            "2/2 [==============================] - 0s 9ms/step - loss: 5.2619 - accuracy: 0.6600\n",
            "Epoch 173/256\n",
            "2/2 [==============================] - 0s 4ms/step - loss: 5.2619 - accuracy: 0.6600\n",
            "Epoch 174/256\n",
            "2/2 [==============================] - 0s 3ms/step - loss: 5.2619 - accuracy: 0.6600\n",
            "Epoch 175/256\n",
            "2/2 [==============================] - 0s 4ms/step - loss: 5.2619 - accuracy: 0.6600\n",
            "Epoch 176/256\n",
            "2/2 [==============================] - 0s 4ms/step - loss: 5.2619 - accuracy: 0.6600\n",
            "Epoch 177/256\n",
            "2/2 [==============================] - 0s 4ms/step - loss: 5.2619 - accuracy: 0.6600\n",
            "Epoch 178/256\n",
            "2/2 [==============================] - 0s 4ms/step - loss: 5.2619 - accuracy: 0.6600\n",
            "Epoch 179/256\n",
            "2/2 [==============================] - 0s 5ms/step - loss: 5.2619 - accuracy: 0.6600\n",
            "Epoch 180/256\n",
            "2/2 [==============================] - 0s 10ms/step - loss: 5.2619 - accuracy: 0.6600\n",
            "Epoch 181/256\n",
            "2/2 [==============================] - 0s 15ms/step - loss: 5.2619 - accuracy: 0.6600\n",
            "Epoch 182/256\n",
            "2/2 [==============================] - 0s 4ms/step - loss: 5.2619 - accuracy: 0.6600\n",
            "Epoch 183/256\n",
            "2/2 [==============================] - 0s 4ms/step - loss: 5.2619 - accuracy: 0.6600\n",
            "Epoch 184/256\n",
            "2/2 [==============================] - 0s 4ms/step - loss: 5.2619 - accuracy: 0.6600\n",
            "Epoch 185/256\n",
            "2/2 [==============================] - 0s 9ms/step - loss: 5.2619 - accuracy: 0.6600\n",
            "Epoch 186/256\n",
            "2/2 [==============================] - 0s 5ms/step - loss: 5.2619 - accuracy: 0.6600\n",
            "Epoch 187/256\n",
            "2/2 [==============================] - 0s 4ms/step - loss: 5.2619 - accuracy: 0.6600\n",
            "Epoch 188/256\n",
            "2/2 [==============================] - 0s 4ms/step - loss: 5.2619 - accuracy: 0.6600\n",
            "Epoch 189/256\n",
            "2/2 [==============================] - 0s 5ms/step - loss: 5.2619 - accuracy: 0.6600\n",
            "Epoch 190/256\n",
            "2/2 [==============================] - 0s 3ms/step - loss: 5.2619 - accuracy: 0.6600\n",
            "Epoch 191/256\n",
            "2/2 [==============================] - 0s 4ms/step - loss: 5.2619 - accuracy: 0.6600\n",
            "Epoch 192/256\n",
            "2/2 [==============================] - 0s 4ms/step - loss: 5.2619 - accuracy: 0.6600\n",
            "Epoch 193/256\n",
            "2/2 [==============================] - 0s 3ms/step - loss: 5.2619 - accuracy: 0.6600\n",
            "Epoch 194/256\n",
            "2/2 [==============================] - 0s 4ms/step - loss: 5.2619 - accuracy: 0.6600\n",
            "Epoch 195/256\n",
            "2/2 [==============================] - 0s 4ms/step - loss: 5.2619 - accuracy: 0.6600\n",
            "Epoch 196/256\n",
            "2/2 [==============================] - 0s 4ms/step - loss: 5.2619 - accuracy: 0.6600\n",
            "Epoch 197/256\n",
            "2/2 [==============================] - 0s 4ms/step - loss: 5.2619 - accuracy: 0.6600\n",
            "Epoch 198/256\n",
            "2/2 [==============================] - 0s 4ms/step - loss: 5.2619 - accuracy: 0.6600\n",
            "Epoch 199/256\n",
            "2/2 [==============================] - 0s 4ms/step - loss: 5.2619 - accuracy: 0.6600\n",
            "Epoch 200/256\n",
            "2/2 [==============================] - 0s 4ms/step - loss: 5.2619 - accuracy: 0.6600\n",
            "Epoch 201/256\n",
            "2/2 [==============================] - 0s 3ms/step - loss: 5.2619 - accuracy: 0.6600\n",
            "Epoch 202/256\n",
            "2/2 [==============================] - 0s 5ms/step - loss: 5.2619 - accuracy: 0.6600\n",
            "Epoch 203/256\n",
            "2/2 [==============================] - 0s 12ms/step - loss: 5.2619 - accuracy: 0.6600\n",
            "Epoch 204/256\n",
            "2/2 [==============================] - 0s 13ms/step - loss: 5.2619 - accuracy: 0.6600\n",
            "Epoch 205/256\n",
            "2/2 [==============================] - 0s 4ms/step - loss: 5.2619 - accuracy: 0.6600\n",
            "Epoch 206/256\n",
            "2/2 [==============================] - 0s 6ms/step - loss: 5.2619 - accuracy: 0.6600\n",
            "Epoch 207/256\n",
            "2/2 [==============================] - 0s 3ms/step - loss: 5.2619 - accuracy: 0.6600\n",
            "Epoch 208/256\n",
            "2/2 [==============================] - 0s 5ms/step - loss: 5.2619 - accuracy: 0.6600\n",
            "Epoch 209/256\n",
            "2/2 [==============================] - 0s 6ms/step - loss: 5.2619 - accuracy: 0.6600\n",
            "Epoch 210/256\n",
            "2/2 [==============================] - 0s 4ms/step - loss: 5.2619 - accuracy: 0.6600\n",
            "Epoch 211/256\n",
            "2/2 [==============================] - 0s 5ms/step - loss: 5.2619 - accuracy: 0.6600\n",
            "Epoch 212/256\n",
            "2/2 [==============================] - 0s 10ms/step - loss: 5.2619 - accuracy: 0.6600\n",
            "Epoch 213/256\n",
            "2/2 [==============================] - 0s 4ms/step - loss: 5.2619 - accuracy: 0.6600\n",
            "Epoch 214/256\n",
            "2/2 [==============================] - 0s 7ms/step - loss: 5.2619 - accuracy: 0.6600\n",
            "Epoch 215/256\n",
            "2/2 [==============================] - 0s 5ms/step - loss: 5.2619 - accuracy: 0.6600\n",
            "Epoch 216/256\n",
            "2/2 [==============================] - 0s 3ms/step - loss: 5.2619 - accuracy: 0.6600\n",
            "Epoch 217/256\n",
            "2/2 [==============================] - 0s 6ms/step - loss: 5.2619 - accuracy: 0.6600\n",
            "Epoch 218/256\n",
            "2/2 [==============================] - 0s 5ms/step - loss: 5.2619 - accuracy: 0.6600\n",
            "Epoch 219/256\n",
            "2/2 [==============================] - 0s 4ms/step - loss: 5.2619 - accuracy: 0.6600\n",
            "Epoch 220/256\n",
            "2/2 [==============================] - 0s 4ms/step - loss: 5.2619 - accuracy: 0.6600\n",
            "Epoch 221/256\n",
            "2/2 [==============================] - 0s 3ms/step - loss: 5.2619 - accuracy: 0.6600\n",
            "Epoch 222/256\n",
            "2/2 [==============================] - 0s 6ms/step - loss: 5.2619 - accuracy: 0.6600\n",
            "Epoch 223/256\n",
            "2/2 [==============================] - 0s 9ms/step - loss: 5.2619 - accuracy: 0.6600\n",
            "Epoch 224/256\n",
            "2/2 [==============================] - 0s 4ms/step - loss: 5.2619 - accuracy: 0.6600\n",
            "Epoch 225/256\n",
            "2/2 [==============================] - 0s 10ms/step - loss: 5.2619 - accuracy: 0.6600\n",
            "Epoch 226/256\n",
            "2/2 [==============================] - 0s 4ms/step - loss: 5.2619 - accuracy: 0.6600\n",
            "Epoch 227/256\n",
            "2/2 [==============================] - 0s 10ms/step - loss: 5.2619 - accuracy: 0.6600\n",
            "Epoch 228/256\n",
            "2/2 [==============================] - 0s 4ms/step - loss: 5.2619 - accuracy: 0.6600\n",
            "Epoch 229/256\n",
            "2/2 [==============================] - 0s 5ms/step - loss: 5.2619 - accuracy: 0.6600\n",
            "Epoch 230/256\n",
            "2/2 [==============================] - 0s 4ms/step - loss: 5.2619 - accuracy: 0.6600\n",
            "Epoch 231/256\n",
            "2/2 [==============================] - 0s 3ms/step - loss: 5.2619 - accuracy: 0.6600\n",
            "Epoch 232/256\n",
            "2/2 [==============================] - 0s 6ms/step - loss: 5.2619 - accuracy: 0.6600\n",
            "Epoch 233/256\n",
            "2/2 [==============================] - 0s 10ms/step - loss: 5.2619 - accuracy: 0.6600\n",
            "Epoch 234/256\n",
            "2/2 [==============================] - 0s 7ms/step - loss: 5.2619 - accuracy: 0.6600\n",
            "Epoch 235/256\n",
            "2/2 [==============================] - 0s 7ms/step - loss: 5.2619 - accuracy: 0.6600\n",
            "Epoch 236/256\n",
            "2/2 [==============================] - 0s 3ms/step - loss: 5.2619 - accuracy: 0.6600\n",
            "Epoch 237/256\n",
            "2/2 [==============================] - 0s 4ms/step - loss: 5.2619 - accuracy: 0.6600\n",
            "Epoch 238/256\n",
            "2/2 [==============================] - 0s 6ms/step - loss: 5.2619 - accuracy: 0.6600\n",
            "Epoch 239/256\n",
            "2/2 [==============================] - 0s 9ms/step - loss: 5.2619 - accuracy: 0.6600\n",
            "Epoch 240/256\n",
            "2/2 [==============================] - 0s 7ms/step - loss: 5.2619 - accuracy: 0.6600\n",
            "Epoch 241/256\n",
            "2/2 [==============================] - 0s 4ms/step - loss: 5.2619 - accuracy: 0.6600\n",
            "Epoch 242/256\n",
            "2/2 [==============================] - 0s 3ms/step - loss: 5.2619 - accuracy: 0.6600\n",
            "Epoch 243/256\n",
            "2/2 [==============================] - 0s 5ms/step - loss: 5.2619 - accuracy: 0.6600\n",
            "Epoch 244/256\n",
            "2/2 [==============================] - 0s 5ms/step - loss: 5.2619 - accuracy: 0.6600\n",
            "Epoch 245/256\n",
            "2/2 [==============================] - 0s 7ms/step - loss: 5.2619 - accuracy: 0.6600\n",
            "Epoch 246/256\n",
            "2/2 [==============================] - 0s 11ms/step - loss: 5.2619 - accuracy: 0.6600\n",
            "Epoch 247/256\n",
            "2/2 [==============================] - 0s 12ms/step - loss: 5.2619 - accuracy: 0.6600\n",
            "Epoch 248/256\n",
            "2/2 [==============================] - 0s 7ms/step - loss: 5.2619 - accuracy: 0.6600\n",
            "Epoch 249/256\n",
            "2/2 [==============================] - 0s 7ms/step - loss: 5.2619 - accuracy: 0.6600\n",
            "Epoch 250/256\n",
            "2/2 [==============================] - 0s 4ms/step - loss: 5.2619 - accuracy: 0.6600\n",
            "Epoch 251/256\n",
            "2/2 [==============================] - 0s 11ms/step - loss: 5.2619 - accuracy: 0.6600\n",
            "Epoch 252/256\n",
            "2/2 [==============================] - 0s 3ms/step - loss: 5.2619 - accuracy: 0.6600\n",
            "Epoch 253/256\n",
            "2/2 [==============================] - 0s 7ms/step - loss: 5.2619 - accuracy: 0.6600\n",
            "Epoch 254/256\n",
            "2/2 [==============================] - 0s 4ms/step - loss: 5.2619 - accuracy: 0.6600\n",
            "Epoch 255/256\n",
            "2/2 [==============================] - 0s 4ms/step - loss: 5.2619 - accuracy: 0.6600\n",
            "Epoch 256/256\n",
            "2/2 [==============================] - 0s 7ms/step - loss: 5.2619 - accuracy: 0.6600\n"
          ]
        },
        {
          "output_type": "execute_result",
          "data": {
            "text/plain": [
              "<keras.callbacks.History at 0x7fed21c67410>"
            ]
          },
          "metadata": {},
          "execution_count": 35
        }
      ]
    },
    {
      "cell_type": "code",
      "metadata": {
        "id": "tIFhBVIOvVPb",
        "outputId": "0fbf2a81-2766-4525-99d4-51f22953fbf1",
        "colab": {
          "base_uri": "https://localhost:8080/"
        }
      },
      "source": [
        "print(Y[:45])"
      ],
      "execution_count": 49,
      "outputs": [
        {
          "output_type": "stream",
          "name": "stdout",
          "text": [
            "[1. 1. 1. 1. 1. 1. 1. 1. 1. 1. 1. 1. 1. 1. 1. 1. 1. 1. 1. 1. 1. 1. 1. 0.\n",
            " 0. 0. 0. 0. 0. 0. 0. 0. 0. 0. 0. 0. 0. 0. 0. 0. 1. 1. 1. 1. 1.]\n"
          ]
        }
      ]
    },
    {
      "cell_type": "code",
      "metadata": {
        "id": "elZbGT5VvjVJ"
      },
      "source": [
        "predictions=model.predict(Y)"
      ],
      "execution_count": 50,
      "outputs": []
    },
    {
      "cell_type": "code",
      "metadata": {
        "id": "dCctXv1Dvq-x",
        "outputId": "c444d779-6cb6-44f1-8d2c-3c3a40550c53",
        "colab": {
          "base_uri": "https://localhost:8080/"
        }
      },
      "source": [
        "print(predictions[:45].T)"
      ],
      "execution_count": 52,
      "outputs": [
        {
          "output_type": "stream",
          "name": "stdout",
          "text": [
            "[[1. 1. 1. 1. 1. 1. 1. 1. 1. 1. 1. 1. 1. 1. 1. 1. 1. 1. 1. 1. 1. 1. 1. 0.\n",
            "  0. 0. 0. 0. 0. 0. 0. 0. 0. 0. 0. 0. 0. 0. 0. 0. 1. 1. 1. 1. 1.]]\n"
          ]
        }
      ]
    },
    {
      "cell_type": "code",
      "metadata": {
        "id": "JRn7n9DAxWPa"
      },
      "source": [
        "model.save('/content/predtest.h5')"
      ],
      "execution_count": 77,
      "outputs": []
    },
    {
      "cell_type": "code",
      "metadata": {
        "id": "p4Jt6ipgxguy"
      },
      "source": [
        "TF_LITE_MODEL_FILE_NAME = \"tf_lite_model.tflite\""
      ],
      "execution_count": 84,
      "outputs": []
    },
    {
      "cell_type": "code",
      "metadata": {
        "id": "ABLkakFv5sLx",
        "outputId": "546a91a8-854a-468a-8ade-058f9d09a3e8",
        "colab": {
          "base_uri": "https://localhost:8080/"
        }
      },
      "source": [
        "tf_lite_converter = tf.lite.TFLiteConverter.from_keras_model(model)\n",
        "tflite_model = tf_lite_converter.convert()"
      ],
      "execution_count": 85,
      "outputs": [
        {
          "output_type": "stream",
          "name": "stdout",
          "text": [
            "WARNING:tensorflow:Compiled the loaded model, but the compiled metrics have yet to be built. `model.compile_metrics` will be empty until you train or evaluate the model.\n",
            "INFO:tensorflow:Assets written to: /tmp/tmpy_b4ahq8/assets\n"
          ]
        }
      ]
    },
    {
      "cell_type": "code",
      "metadata": {
        "id": "c63T9d7M5wnX",
        "outputId": "b26084a2-a566-471e-a914-c6c5b9495d84",
        "colab": {
          "base_uri": "https://localhost:8080/"
        }
      },
      "source": [
        "tflite_model_name = TF_LITE_MODEL_FILE_NAME\n",
        "open(tflite_model_name, \"wb\").write(tflite_model)"
      ],
      "execution_count": 91,
      "outputs": [
        {
          "output_type": "execute_result",
          "data": {
            "text/plain": [
              "852"
            ]
          },
          "metadata": {},
          "execution_count": 91
        }
      ]
    },
    {
      "cell_type": "code",
      "metadata": {
        "id": "8EcG8zJZ6gXA",
        "outputId": "1b0da8cc-8ed3-435a-ac8e-63a0765c13b7",
        "colab": {
          "base_uri": "https://localhost:8080/"
        }
      },
      "source": [
        "interpreter = tf.lite.Interpreter(model_path = TF_LITE_MODEL_FILE_NAME)\n",
        "input_details = interpreter.get_input_details()\n",
        "output_details = interpreter.get_output_details()\n",
        "print(\"Input Shape:\", input_details[0]['shape'])\n",
        "print(\"Input Type:\", input_details[0]['dtype'])\n",
        "print(\"Output Shape:\", output_details[0]['shape'])\n",
        "print(\"Output Type:\", output_details[0]['dtype'])"
      ],
      "execution_count": 92,
      "outputs": [
        {
          "output_type": "stream",
          "name": "stdout",
          "text": [
            "Input Shape: [1 4]\n",
            "Input Type: <class 'numpy.float32'>\n",
            "Output Shape: [1 1]\n",
            "Output Type: <class 'numpy.float32'>\n"
          ]
        }
      ]
    }
  ]
}