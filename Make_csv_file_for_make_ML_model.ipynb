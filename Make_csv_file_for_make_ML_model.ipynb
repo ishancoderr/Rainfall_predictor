{
  "nbformat": 4,
  "nbformat_minor": 0,
  "metadata": {
    "colab": {
      "name": "Untitled43.ipynb",
      "provenance": [],
      "collapsed_sections": [],
      "authorship_tag": "ABX9TyPrxFOeke3mG1CRweiFoLfE",
      "include_colab_link": true
    },
    "kernelspec": {
      "name": "python3",
      "display_name": "Python 3"
    },
    "language_info": {
      "name": "python"
    }
  },
  "cells": [
    {
      "cell_type": "markdown",
      "metadata": {
        "id": "view-in-github",
        "colab_type": "text"
      },
      "source": [
        "<a href=\"https://colab.research.google.com/github/ishancoderr/Rainfall_predictor/blob/main/Make_csv_file_for_make_ML_model.ipynb\" target=\"_parent\"><img src=\"https://colab.research.google.com/assets/colab-badge.svg\" alt=\"Open In Colab\"/></a>"
      ]
    },
    {
      "cell_type": "markdown",
      "metadata": {
        "id": "slXfAEQTvxIz"
      },
      "source": [
        "https://www.scirp.org/journal/paperinformation.aspx?paperid=81276\n",
        "\n",
        "\n",
        "https://en.climate-data.org/asia/sri-lanka/uva/badulla-764256/\n",
        "\n",
        "https://books.google.lk/books?id=L3ckDwAAQBAJ&pg=PA270&lpg=PA270&dq=rainfall+data+with+cumulative+time+in+badulla&source=bl&ots=3YCsce_9-A&sig=ACfU3U1hUHgX5JoFKeC2LIYimb4GFj_CsA&hl=en&sa=X&ved=2ahUKEwjyy9av1aHzAhVBjeYKHXS_DAkQ6AF6BAglEAM#v=onepage&q=rainfall%20data%20with%20cumulative%20time%20in%20badulla&f=false"
      ]
    },
    {
      "cell_type": "markdown",
      "metadata": {
        "id": "3tmoDwL0y4BD"
      },
      "source": [
        "**Importing the libraries**"
      ]
    },
    {
      "cell_type": "code",
      "metadata": {
        "id": "SAIfZJDayyVp"
      },
      "source": [
        "import numpy as np\n",
        "import matplotlib.pyplot as plt\n",
        "import pandas as pd"
      ],
      "execution_count": 40,
      "outputs": []
    },
    {
      "cell_type": "markdown",
      "metadata": {
        "id": "49SPamzuzLi7"
      },
      "source": [
        "**Importing Rainfall data** "
      ]
    },
    {
      "cell_type": "code",
      "metadata": {
        "id": "xQazaJdaw8wM"
      },
      "source": [
        "\n",
        "import io\n",
        "import requests\n",
        "url='https://raw.githubusercontent.com/ishancoderr/Rainfall_predictor/main/Rainfall.csv'\n",
        "s=requests.get(url).content\n",
        "dataset=pd.read_csv(io.StringIO(s.decode('utf-8')))\n"
      ],
      "execution_count": 42,
      "outputs": []
    },
    {
      "cell_type": "code",
      "metadata": {
        "colab": {
          "base_uri": "https://localhost:8080/",
          "height": 204
        },
        "id": "maChF_rJzl30",
        "outputId": "c17d909d-dc95-4b45-e54e-5e13d2b76454"
      },
      "source": [
        "dataset.head()"
      ],
      "execution_count": 43,
      "outputs": [
        {
          "output_type": "execute_result",
          "data": {
            "text/html": [
              "<div>\n",
              "<style scoped>\n",
              "    .dataframe tbody tr th:only-of-type {\n",
              "        vertical-align: middle;\n",
              "    }\n",
              "\n",
              "    .dataframe tbody tr th {\n",
              "        vertical-align: top;\n",
              "    }\n",
              "\n",
              "    .dataframe thead th {\n",
              "        text-align: right;\n",
              "    }\n",
              "</style>\n",
              "<table border=\"1\" class=\"dataframe\">\n",
              "  <thead>\n",
              "    <tr style=\"text-align: right;\">\n",
              "      <th></th>\n",
              "      <th>Year</th>\n",
              "      <th>Month</th>\n",
              "      <th>Day</th>\n",
              "      <th>Avg_Accumulation (mm)</th>\n",
              "      <th>Duration (hr)</th>\n",
              "      <th>Avg_intensity (mm/hr)</th>\n",
              "      <th>occur</th>\n",
              "    </tr>\n",
              "  </thead>\n",
              "  <tbody>\n",
              "    <tr>\n",
              "      <th>0</th>\n",
              "      <td>1997</td>\n",
              "      <td>November</td>\n",
              "      <td>17</td>\n",
              "      <td>257</td>\n",
              "      <td>6.0</td>\n",
              "      <td>43</td>\n",
              "      <td>yes</td>\n",
              "    </tr>\n",
              "    <tr>\n",
              "      <th>1</th>\n",
              "      <td>1997</td>\n",
              "      <td>November</td>\n",
              "      <td>19</td>\n",
              "      <td>268</td>\n",
              "      <td>5.0</td>\n",
              "      <td>53</td>\n",
              "      <td>yes</td>\n",
              "    </tr>\n",
              "    <tr>\n",
              "      <th>2</th>\n",
              "      <td>1997</td>\n",
              "      <td>November</td>\n",
              "      <td>19</td>\n",
              "      <td>289</td>\n",
              "      <td>6.0</td>\n",
              "      <td>48</td>\n",
              "      <td>yes</td>\n",
              "    </tr>\n",
              "    <tr>\n",
              "      <th>3</th>\n",
              "      <td>1997</td>\n",
              "      <td>November</td>\n",
              "      <td>19</td>\n",
              "      <td>215</td>\n",
              "      <td>4.0</td>\n",
              "      <td>54</td>\n",
              "      <td>yes</td>\n",
              "    </tr>\n",
              "    <tr>\n",
              "      <th>4</th>\n",
              "      <td>1998</td>\n",
              "      <td>November</td>\n",
              "      <td>16</td>\n",
              "      <td>149</td>\n",
              "      <td>3.0</td>\n",
              "      <td>50</td>\n",
              "      <td>yes</td>\n",
              "    </tr>\n",
              "  </tbody>\n",
              "</table>\n",
              "</div>"
            ],
            "text/plain": [
              "   Year     Month  Day  ...  Duration (hr)  Avg_intensity (mm/hr)  occur\n",
              "0  1997  November   17  ...            6.0                     43    yes\n",
              "1  1997  November   19  ...            5.0                     53    yes\n",
              "2  1997  November   19  ...            6.0                     48    yes\n",
              "3  1997  November   19  ...            4.0                     54    yes\n",
              "4  1998  November   16  ...            3.0                     50    yes\n",
              "\n",
              "[5 rows x 7 columns]"
            ]
          },
          "metadata": {},
          "execution_count": 43
        }
      ]
    },
    {
      "cell_type": "code",
      "metadata": {
        "colab": {
          "base_uri": "https://localhost:8080/"
        },
        "id": "BBZ_1dWl1uzs",
        "outputId": "3c6c6bc6-0134-4d4a-f7b2-9c35947fa928"
      },
      "source": [
        "column_names=dataset.columns.values.tolist()\n",
        "print(column_names)"
      ],
      "execution_count": 44,
      "outputs": [
        {
          "output_type": "stream",
          "name": "stdout",
          "text": [
            "['Year', 'Month', 'Day', 'Avg_Accumulation (mm)', 'Duration (hr)', 'Avg_intensity (mm/hr)', 'occur']\n"
          ]
        }
      ]
    },
    {
      "cell_type": "markdown",
      "metadata": {
        "id": "bf5K9DT42mz7"
      },
      "source": [
        "**import Encoders**"
      ]
    },
    {
      "cell_type": "code",
      "metadata": {
        "id": "wSSAcnlm3N4b"
      },
      "source": [
        "from sklearn.compose import ColumnTransformer\n",
        "from sklearn.preprocessing import OneHotEncoder\n",
        "from sklearn.preprocessing import LabelEncoder"
      ],
      "execution_count": 45,
      "outputs": []
    },
    {
      "cell_type": "code",
      "metadata": {
        "id": "2jsabpc03SXa"
      },
      "source": [
        "labelencode=LabelEncoder()\n",
        "dataset['occur_']=labelencode.fit_transform(dataset['occur'])\n",
        "labelencode=LabelEncoder()\n",
        "dataset['Month_']=labelencode.fit_transform(dataset['Month'])\n",
        "labelencode=LabelEncoder()"
      ],
      "execution_count": 46,
      "outputs": []
    },
    {
      "cell_type": "code",
      "metadata": {
        "colab": {
          "base_uri": "https://localhost:8080/",
          "height": 204
        },
        "id": "Qcf0THVL4V_7",
        "outputId": "41186274-9b13-43fb-bd4e-44fea1e39bc8"
      },
      "source": [
        "dataset.head()"
      ],
      "execution_count": 47,
      "outputs": [
        {
          "output_type": "execute_result",
          "data": {
            "text/html": [
              "<div>\n",
              "<style scoped>\n",
              "    .dataframe tbody tr th:only-of-type {\n",
              "        vertical-align: middle;\n",
              "    }\n",
              "\n",
              "    .dataframe tbody tr th {\n",
              "        vertical-align: top;\n",
              "    }\n",
              "\n",
              "    .dataframe thead th {\n",
              "        text-align: right;\n",
              "    }\n",
              "</style>\n",
              "<table border=\"1\" class=\"dataframe\">\n",
              "  <thead>\n",
              "    <tr style=\"text-align: right;\">\n",
              "      <th></th>\n",
              "      <th>Year</th>\n",
              "      <th>Month</th>\n",
              "      <th>Day</th>\n",
              "      <th>Avg_Accumulation (mm)</th>\n",
              "      <th>Duration (hr)</th>\n",
              "      <th>Avg_intensity (mm/hr)</th>\n",
              "      <th>occur</th>\n",
              "      <th>occur_</th>\n",
              "      <th>Month_</th>\n",
              "    </tr>\n",
              "  </thead>\n",
              "  <tbody>\n",
              "    <tr>\n",
              "      <th>0</th>\n",
              "      <td>1997</td>\n",
              "      <td>November</td>\n",
              "      <td>17</td>\n",
              "      <td>257</td>\n",
              "      <td>6.0</td>\n",
              "      <td>43</td>\n",
              "      <td>yes</td>\n",
              "      <td>1</td>\n",
              "      <td>9</td>\n",
              "    </tr>\n",
              "    <tr>\n",
              "      <th>1</th>\n",
              "      <td>1997</td>\n",
              "      <td>November</td>\n",
              "      <td>19</td>\n",
              "      <td>268</td>\n",
              "      <td>5.0</td>\n",
              "      <td>53</td>\n",
              "      <td>yes</td>\n",
              "      <td>1</td>\n",
              "      <td>9</td>\n",
              "    </tr>\n",
              "    <tr>\n",
              "      <th>2</th>\n",
              "      <td>1997</td>\n",
              "      <td>November</td>\n",
              "      <td>19</td>\n",
              "      <td>289</td>\n",
              "      <td>6.0</td>\n",
              "      <td>48</td>\n",
              "      <td>yes</td>\n",
              "      <td>1</td>\n",
              "      <td>9</td>\n",
              "    </tr>\n",
              "    <tr>\n",
              "      <th>3</th>\n",
              "      <td>1997</td>\n",
              "      <td>November</td>\n",
              "      <td>19</td>\n",
              "      <td>215</td>\n",
              "      <td>4.0</td>\n",
              "      <td>54</td>\n",
              "      <td>yes</td>\n",
              "      <td>1</td>\n",
              "      <td>9</td>\n",
              "    </tr>\n",
              "    <tr>\n",
              "      <th>4</th>\n",
              "      <td>1998</td>\n",
              "      <td>November</td>\n",
              "      <td>16</td>\n",
              "      <td>149</td>\n",
              "      <td>3.0</td>\n",
              "      <td>50</td>\n",
              "      <td>yes</td>\n",
              "      <td>1</td>\n",
              "      <td>9</td>\n",
              "    </tr>\n",
              "  </tbody>\n",
              "</table>\n",
              "</div>"
            ],
            "text/plain": [
              "   Year     Month  Day  ...  occur  occur_  Month_\n",
              "0  1997  November   17  ...    yes       1       9\n",
              "1  1997  November   19  ...    yes       1       9\n",
              "2  1997  November   19  ...    yes       1       9\n",
              "3  1997  November   19  ...    yes       1       9\n",
              "4  1998  November   16  ...    yes       1       9\n",
              "\n",
              "[5 rows x 9 columns]"
            ]
          },
          "metadata": {},
          "execution_count": 47
        }
      ]
    },
    {
      "cell_type": "markdown",
      "metadata": {
        "id": "z-JKaafu4imy"
      },
      "source": [
        "**Make new data frame with this dataset**"
      ]
    },
    {
      "cell_type": "code",
      "metadata": {
        "id": "UJNToffD4h2t"
      },
      "source": [
        "new_dataset= dataset[[ 'Avg_Accumulation (mm)', 'Duration (hr)', 'Avg_intensity (mm/hr)', 'occur_']]"
      ],
      "execution_count": 48,
      "outputs": []
    },
    {
      "cell_type": "code",
      "metadata": {
        "colab": {
          "base_uri": "https://localhost:8080/",
          "height": 204
        },
        "id": "whdq3o9MIDvB",
        "outputId": "da38e3e2-8259-46c1-8ac2-df0d5be4f566"
      },
      "source": [
        "new_dataset.head()"
      ],
      "execution_count": 49,
      "outputs": [
        {
          "output_type": "execute_result",
          "data": {
            "text/html": [
              "<div>\n",
              "<style scoped>\n",
              "    .dataframe tbody tr th:only-of-type {\n",
              "        vertical-align: middle;\n",
              "    }\n",
              "\n",
              "    .dataframe tbody tr th {\n",
              "        vertical-align: top;\n",
              "    }\n",
              "\n",
              "    .dataframe thead th {\n",
              "        text-align: right;\n",
              "    }\n",
              "</style>\n",
              "<table border=\"1\" class=\"dataframe\">\n",
              "  <thead>\n",
              "    <tr style=\"text-align: right;\">\n",
              "      <th></th>\n",
              "      <th>Avg_Accumulation (mm)</th>\n",
              "      <th>Duration (hr)</th>\n",
              "      <th>Avg_intensity (mm/hr)</th>\n",
              "      <th>occur_</th>\n",
              "    </tr>\n",
              "  </thead>\n",
              "  <tbody>\n",
              "    <tr>\n",
              "      <th>0</th>\n",
              "      <td>257</td>\n",
              "      <td>6.0</td>\n",
              "      <td>43</td>\n",
              "      <td>1</td>\n",
              "    </tr>\n",
              "    <tr>\n",
              "      <th>1</th>\n",
              "      <td>268</td>\n",
              "      <td>5.0</td>\n",
              "      <td>53</td>\n",
              "      <td>1</td>\n",
              "    </tr>\n",
              "    <tr>\n",
              "      <th>2</th>\n",
              "      <td>289</td>\n",
              "      <td>6.0</td>\n",
              "      <td>48</td>\n",
              "      <td>1</td>\n",
              "    </tr>\n",
              "    <tr>\n",
              "      <th>3</th>\n",
              "      <td>215</td>\n",
              "      <td>4.0</td>\n",
              "      <td>54</td>\n",
              "      <td>1</td>\n",
              "    </tr>\n",
              "    <tr>\n",
              "      <th>4</th>\n",
              "      <td>149</td>\n",
              "      <td>3.0</td>\n",
              "      <td>50</td>\n",
              "      <td>1</td>\n",
              "    </tr>\n",
              "  </tbody>\n",
              "</table>\n",
              "</div>"
            ],
            "text/plain": [
              "   Avg_Accumulation (mm)  Duration (hr)  Avg_intensity (mm/hr)  occur_\n",
              "0                    257            6.0                     43       1\n",
              "1                    268            5.0                     53       1\n",
              "2                    289            6.0                     48       1\n",
              "3                    215            4.0                     54       1\n",
              "4                    149            3.0                     50       1"
            ]
          },
          "metadata": {},
          "execution_count": 49
        }
      ]
    },
    {
      "cell_type": "code",
      "metadata": {
        "id": "kp4KyQ3Ij7Ek"
      },
      "source": [
        "new_dataset.to_csv('rainfall_data.csv')"
      ],
      "execution_count": 50,
      "outputs": []
    }
  ]
}